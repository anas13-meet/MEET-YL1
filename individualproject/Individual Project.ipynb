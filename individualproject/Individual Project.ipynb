{
 "metadata": {
  "name": ""
 },
 "nbformat": 3,
 "nbformat_minor": 0,
 "worksheets": [
  {
   "cells": [
    {
     "cell_type": "code",
     "collapsed": false,
     "input": [
      "import csv"
     ],
     "language": "python",
     "metadata": {},
     "outputs": [],
     "prompt_number": 1
    },
    {
     "cell_type": "code",
     "collapsed": false,
     "input": [
      "#The purpose of this data is to show the difference between many animals' body masses and brain masses\n",
      "#and show how their ratios from animal to animal"
     ],
     "language": "python",
     "metadata": {},
     "outputs": []
    },
    {
     "cell_type": "code",
     "collapsed": false,
     "input": [
      "f = open('animal.csv', 'rb')\n",
      "reader = csv.reader(f)\n",
      "index = 0\n",
      "for row in reader:\n",
      "    if index != 0:\n",
      " \t print row\n",
      "    index += 1\n",
      "f.close()"
     ],
     "language": "python",
     "metadata": {},
     "outputs": [
      {
       "output_type": "stream",
       "stream": "stdout",
       "text": [
        "['Lesser Short-tailed Shrew', '5', '.14']\n",
        "['Little Brown Bat', '10', '.25']\n",
        "['Mouse', '23', '.3']\n",
        "['Big Brown Bat', '23', '.4']\n",
        "['Musk Shrew', '48', '.33']\n",
        "['Star Nosed Mole', '60', '1']\n",
        "['Eastern American Mole', '75', '1.2']\n",
        "['Ground Squirrel', '101', '4']\n",
        "['Tree Shrew', '104', '2.5']\n",
        "['Golden Hamster', '120', '1']\n",
        "['Mole Rate', '122', '3']\n",
        "['Galago', '200', '5']\n",
        "['Rat', '280', '1.9']\n",
        "['Chinchilla', '425', '6.4']\n",
        "['Desert Hedgehog', '550', '2.4']\n",
        "['Rock Hyrax (a)', '750', '12.3']\n",
        "['European Hedgehog', '785', '3.5']\n",
        "['Tenrec', '900', '2.6']\n",
        "['Arctic Ground Squirrel', '920', '5.7']\n",
        "['African Giant Pouched Rat', '1000', '6.6']\n",
        "['Guinea Pig', '1040', '5.5']\n",
        "['Mountain Beaver', '1350', '8.1']\n",
        "['Slow Loris', '1400', '12.5']\n",
        "['Genet', '1410', '17.5']\n",
        "['Phalanger', '1620', '11.4']\n",
        "['North American Opossum', '1700', '6.3']\n",
        "['Tree Hyrax', '2000', '12.3']\n",
        "['Rabbit', '2500', '12.1']\n",
        "['Echidna', '3000', '25']\n",
        "['Cat', '3300', '25.6']\n",
        "['Artic Fox', '3385', '44.5']\n",
        "['Nine-banded Armadillo', '3500', '10.8']\n",
        "['Water Opossum', '3500', '3.9']\n",
        "['Rock Hyrax (b)', '3600', '21']\n",
        "['Red Fox', '4235', '50.4']\n",
        "['Raccoon', '4288', '39.2']\n",
        "['Roe Deer', '14830', '98.2']\n",
        "['Goat', '27660', '115']\n",
        "['Kangaroo', '35000', '56']\n",
        "['Gray Wolf', '36330', '119.5']\n",
        "['Sheep', '55500', '175']\n",
        "['Giant Armadillo', '60000', '81']\n",
        "['Gray Seal', '85000', '325']\n",
        "['Jaguar', '100000', '157']\n",
        "['Brazilian Tapir', '160000', '169']\n",
        "['Donkey', '187100', '419']\n",
        "['Pig', '192000', '180']\n",
        "['Protoceratops', '200000', '30']\n",
        "['Okapi', '250000', '490']\n",
        "['Camptosaurus', '400000', '46']\n",
        "['Cow', '465000', '423']\n",
        "['Horse', '521000', '655']\n",
        "['Giraffe', '529000', '680']\n",
        "['Stegosaurus', '2e+06', '56']\n",
        "['Allosaurus', '2300000', '335']\n",
        "['Asian Elephant', '2547000', '4603']\n",
        "['Anatosaurus', '3400000', '300']\n",
        "['Iguanodon', '5e+06', '250']\n",
        "['African Elephant', '6654000', '5712']\n",
        "['Tyrannosaurus', '7700000', '404']\n",
        "['Triceratops', '9400000', '140']\n",
        "['Diplodocus', '11700000', '100']\n",
        "['Blue Whale', '58059000', '6800']\n",
        "['Brachiosaurus', '8.7e+07', '309']\n"
       ]
      }
     ],
     "prompt_number": 2
    },
    {
     "cell_type": "code",
     "collapsed": false,
     "input": [
      "\n",
      "import csv\n",
      "f = open('animal.csv', 'rb')\n",
      "reader = csv.reader(f)\n",
      "rownum = 0\n",
      "weight = []\n",
      "vol = []\n",
      "for row in reader:\n",
      "    if rownum == 0:\n",
      "        header = row\n",
      "    else:\n",
      "        print \"row = \", row\n",
      "        r = map(str, row[0].split())\n",
      "        print \"formated row = \", r\n",
      "    rownum += 1\n",
      "f.close()\n"
     ],
     "language": "python",
     "metadata": {},
     "outputs": [
      {
       "output_type": "stream",
       "stream": "stdout",
       "text": [
        "row =  ['Lesser Short-tailed Shrew', '5', '.14']\n",
        "formated row =  ['Lesser', 'Short-tailed', 'Shrew']\n",
        "row =  ['Little Brown Bat', '10', '.25']\n",
        "formated row =  ['Little', 'Brown', 'Bat']\n",
        "row =  ['Mouse', '23', '.3']\n",
        "formated row =  ['Mouse']\n",
        "row =  ['Big Brown Bat', '23', '.4']\n",
        "formated row =  ['Big', 'Brown', 'Bat']\n",
        "row =  ['Musk Shrew', '48', '.33']\n",
        "formated row =  ['Musk', 'Shrew']\n",
        "row =  ['Star Nosed Mole', '60', '1']\n",
        "formated row =  ['Star', 'Nosed', 'Mole']\n",
        "row =  ['Eastern American Mole', '75', '1.2']\n",
        "formated row =  ['Eastern', 'American', 'Mole']\n",
        "row =  ['Ground Squirrel', '101', '4']\n",
        "formated row =  ['Ground', 'Squirrel']\n",
        "row =  ['Tree Shrew', '104', '2.5']\n",
        "formated row =  ['Tree', 'Shrew']\n",
        "row =  ['Golden Hamster', '120', '1']\n",
        "formated row =  ['Golden', 'Hamster']\n",
        "row =  ['Mole Rate', '122', '3']\n",
        "formated row =  ['Mole', 'Rate']\n",
        "row =  ['Galago', '200', '5']\n",
        "formated row =  ['Galago']\n",
        "row =  ['Rat', '280', '1.9']\n",
        "formated row =  ['Rat']\n",
        "row =  ['Chinchilla', '425', '6.4']\n",
        "formated row =  ['Chinchilla']\n",
        "row =  ['Desert Hedgehog', '550', '2.4']\n",
        "formated row =  ['Desert', 'Hedgehog']\n",
        "row =  ['Rock Hyrax (a)', '750', '12.3']\n",
        "formated row =  ['Rock', 'Hyrax', '(a)']\n",
        "row =  ['European Hedgehog', '785', '3.5']\n",
        "formated row =  ['European', 'Hedgehog']\n",
        "row =  ['Tenrec', '900', '2.6']\n",
        "formated row =  ['Tenrec']\n",
        "row =  ['Arctic Ground Squirrel', '920', '5.7']\n",
        "formated row =  ['Arctic', 'Ground', 'Squirrel']\n",
        "row =  ['African Giant Pouched Rat', '1000', '6.6']\n",
        "formated row =  ['African', 'Giant', 'Pouched', 'Rat']\n",
        "row =  ['Guinea Pig', '1040', '5.5']\n",
        "formated row =  ['Guinea', 'Pig']\n",
        "row =  ['Mountain Beaver', '1350', '8.1']\n",
        "formated row =  ['Mountain', 'Beaver']\n",
        "row =  ['Slow Loris', '1400', '12.5']\n",
        "formated row =  ['Slow', 'Loris']\n",
        "row =  ['Genet', '1410', '17.5']\n",
        "formated row =  ['Genet']\n",
        "row =  ['Phalanger', '1620', '11.4']\n",
        "formated row =  ['Phalanger']\n",
        "row =  ['North American Opossum', '1700', '6.3']\n",
        "formated row =  ['North', 'American', 'Opossum']\n",
        "row =  ['Tree Hyrax', '2000', '12.3']\n",
        "formated row =  ['Tree', 'Hyrax']\n",
        "row =  ['Rabbit', '2500', '12.1']\n",
        "formated row =  ['Rabbit']\n",
        "row =  ['Echidna', '3000', '25']\n",
        "formated row =  ['Echidna']\n",
        "row =  ['Cat', '3300', '25.6']\n",
        "formated row =  ['Cat']\n",
        "row =  ['Artic Fox', '3385', '44.5']\n",
        "formated row =  ['Artic', 'Fox']\n",
        "row =  ['Nine-banded Armadillo', '3500', '10.8']\n",
        "formated row =  ['Nine-banded', 'Armadillo']\n",
        "row =  ['Water Opossum', '3500', '3.9']\n",
        "formated row =  ['Water', 'Opossum']\n",
        "row =  ['Rock Hyrax (b)', '3600', '21']\n",
        "formated row =  ['Rock', 'Hyrax', '(b)']\n",
        "row =  ['Red Fox', '4235', '50.4']\n",
        "formated row =  ['Red', 'Fox']\n",
        "row =  ['Raccoon', '4288', '39.2']\n",
        "formated row =  ['Raccoon']\n",
        "row =  ['Roe Deer', '14830', '98.2']\n",
        "formated row =  ['Roe', 'Deer']\n",
        "row =  ['Goat', '27660', '115']\n",
        "formated row =  ['Goat']\n",
        "row =  ['Kangaroo', '35000', '56']\n",
        "formated row =  ['Kangaroo']\n",
        "row =  ['Gray Wolf', '36330', '119.5']\n",
        "formated row =  ['Gray', 'Wolf']\n",
        "row =  ['Sheep', '55500', '175']\n",
        "formated row =  ['Sheep']\n",
        "row =  ['Giant Armadillo', '60000', '81']\n",
        "formated row =  ['Giant', 'Armadillo']\n",
        "row =  ['Gray Seal', '85000', '325']\n",
        "formated row =  ['Gray', 'Seal']\n",
        "row =  ['Jaguar', '100000', '157']\n",
        "formated row =  ['Jaguar']\n",
        "row =  ['Brazilian Tapir', '160000', '169']\n",
        "formated row =  ['Brazilian', 'Tapir']\n",
        "row =  ['Donkey', '187100', '419']\n",
        "formated row =  ['Donkey']\n",
        "row =  ['Pig', '192000', '180']\n",
        "formated row =  ['Pig']\n",
        "row =  ['Protoceratops', '200000', '30']\n",
        "formated row =  ['Protoceratops']\n",
        "row =  ['Okapi', '250000', '490']\n",
        "formated row =  ['Okapi']\n",
        "row =  ['Camptosaurus', '400000', '46']\n",
        "formated row =  ['Camptosaurus']\n",
        "row =  ['Cow', '465000', '423']\n",
        "formated row =  ['Cow']\n",
        "row =  ['Horse', '521000', '655']\n",
        "formated row =  ['Horse']\n",
        "row =  ['Giraffe', '529000', '680']\n",
        "formated row =  ['Giraffe']\n",
        "row =  ['Stegosaurus', '2e+06', '56']\n",
        "formated row =  ['Stegosaurus']\n",
        "row =  ['Allosaurus', '2300000', '335']\n",
        "formated row =  ['Allosaurus']\n",
        "row =  ['Asian Elephant', '2547000', '4603']\n",
        "formated row =  ['Asian', 'Elephant']\n",
        "row =  ['Anatosaurus', '3400000', '300']\n",
        "formated row =  ['Anatosaurus']\n",
        "row =  ['Iguanodon', '5e+06', '250']\n",
        "formated row =  ['Iguanodon']\n",
        "row =  ['African Elephant', '6654000', '5712']\n",
        "formated row =  ['African', 'Elephant']\n",
        "row =  ['Tyrannosaurus', '7700000', '404']\n",
        "formated row =  ['Tyrannosaurus']\n",
        "row =  ['Triceratops', '9400000', '140']\n",
        "formated row =  ['Triceratops']\n",
        "row =  ['Diplodocus', '11700000', '100']\n",
        "formated row =  ['Diplodocus']\n",
        "row =  ['Blue Whale', '58059000', '6800']\n",
        "formated row =  ['Blue', 'Whale']\n",
        "row =  ['Brachiosaurus', '8.7e+07', '309']\n",
        "formated row =  ['Brachiosaurus']\n"
       ]
      }
     ],
     "prompt_number": 3
    },
    {
     "cell_type": "code",
     "collapsed": false,
     "input": [
      "f = open('animal.csv', 'rb')\n",
      "reader = csv.reader(f)\n",
      "rownum = 0\n",
      "body = []\n",
      "brain = []\n",
      "for row in reader:\n",
      "    if rownum == 0:\n",
      "        header = row\n",
      "    else:\n",
      "        r = map(str, row[1].split())\n",
      "        r = map(str, row[2].split())\n",
      "        body.append(r[0])\n",
      "        brain.append(r[0])\n",
      "    rownum += 1\n",
      " \n",
      "print \"body= \", body\n",
      "print \"brain= \", brain\n",
      "f.close()\n"
     ],
     "language": "python",
     "metadata": {},
     "outputs": [
      {
       "output_type": "stream",
       "stream": "stdout",
       "text": [
        "body=  ['0.14', '0.25', '0.3', '0.4', '0.33', '1', '1.2', '4', '2.5', '1', '3', '5', '1.9', '6.4', '2.4', '12.3', '3.5', '2.6', '5.7', '6.6', '5.5', '8.1', '12.5', '17.5', '11.4', '6.3', '12.3', '12.1', '25', '25.6', '44.5', '10.8', '3.9', '21', '50.4', '39.2', '98.2', '115', '56', '119.5', '175', '81', '325', '157', '169', '419', '180', '30', '490', '46', '423', '655', '680', '56', '335', '4603', '300', '250', '5712', '404', '140', '100', '6800', '309']\n",
        "brain=  ['0.14', '0.25', '0.3', '0.4', '0.33', '1', '1.2', '4', '2.5', '1', '3', '5', '1.9', '6.4', '2.4', '12.3', '3.5', '2.6', '5.7', '6.6', '5.5', '8.1', '12.5', '17.5', '11.4', '6.3', '12.3', '12.1', '25', '25.6', '44.5', '10.8', '3.9', '21', '50.4', '39.2', '98.2', '115', '56', '119.5', '175', '81', '325', '157', '169', '419', '180', '30', '490', '46', '423', '655', '680', '56', '335', '4603', '300', '250', '5712', '404', '140', '100', '6800', '309']\n"
       ]
      }
     ],
     "prompt_number": 28
    },
    {
     "cell_type": "code",
     "collapsed": false,
     "input": [
      "from pylab import*\n",
      "fig = plt.figure()\n",
      "scatter (brain, body)\n",
      "fig.savefig(\"animal_scatter.png\")\n"
     ],
     "language": "python",
     "metadata": {},
     "outputs": [
      {
       "metadata": {},
       "output_type": "display_data",
       "png": "[encoded data removed]",
       "text": [
        "<matplotlib.figure.Figure at 0x513bbd0>"
       ]
      }
     ],
     "prompt_number": 30
    },
    {
     "cell_type": "code",
     "collapsed": false,
     "input": [],
     "language": "python",
     "metadata": {},
     "outputs": []
    },
    {
     "cell_type": "code",
     "collapsed": false,
     "input": [
      "fig = plt.figure()\n",
      "ax = fig.add_subplot(111)\n",
      "ax.set_title('Animals: Brain vs. Body')\n",
      "ax.set_xlabel('brain mass (g)')\n",
      "ax.set_ylabel('body mass(g)')\n",
      "ax.scatter(brain,body)\n",
      "fig.savefig(\"animal_scatter_label.png\")\n"
     ],
     "language": "python",
     "metadata": {},
     "outputs": [
      {
       "metadata": {},
       "output_type": "display_data",
       "png": "[encoded data removed]",
       "text": [
        "<matplotlib.figure.Figure at 0x5100ed0>"
       ]
      }
     ],
     "prompt_number": 55
    },
    {
     "cell_type": "code",
     "collapsed": false,
     "input": [
      "fig = plt.figure()\n",
      "ax = fig.add_subplot(111)\n",
      "ax.set_title('Animals: Brain vs. Body')\n",
      "ax.set_xlabel('brain mass (g)')\n",
      "ax.set_ylabel('body mass(g)')\n",
      "ax.plot(brain,body)\n",
      "fig.savefig(\"animal_scatter_label_plot.png\")\n",
      "# This graph shows  the Brain mass as the independent varible as I think that brain is the\n",
      "# main part of the animal that is constant from same type of animal to anotheer type of animal\n",
      "#The dependent varible is the body mass. This grapgh shows the comparison between these two variables\n",
      "# It shows the show when the brain mass increases in one of the animals the body mass increases.\n",
      "# This means that the mass of brain is proportional with the mas body."
     ],
     "language": "python",
     "metadata": {},
     "outputs": [
      {
       "metadata": {},
       "output_type": "display_data",
       "png": "[encoded data removed]",
       "text": [
        "<matplotlib.figure.Figure at 0x50fa810>"
       ]
      }
     ],
     "prompt_number": 60
    },
    {
     "cell_type": "code",
     "collapsed": false,
     "input": [],
     "language": "python",
     "metadata": {},
     "outputs": []
    }
   ],
   "metadata": {}
  }
 ]
}